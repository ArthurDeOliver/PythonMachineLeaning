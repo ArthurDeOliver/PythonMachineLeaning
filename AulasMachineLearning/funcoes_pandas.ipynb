{
 "cells": [
  {
   "cell_type": "code",
   "execution_count": 1,
   "metadata": {},
   "outputs": [],
   "source": [
    "import pandas as pd\n",
    "import numpy as np\n",
    "import matplotlib.pyplot as plt\n",
    "import plotly.express as px\n",
    "import seaborn as sns\n",
    "\n",
    "dados_créditos = pd.read_csv('Base_de_dados\\credit_data.csv')"
   ]
  },
  {
   "cell_type": "code",
   "execution_count": 5,
   "metadata": {},
   "outputs": [
    {
     "name": "stdout",
     "output_type": "stream",
     "text": [
      "   clientid        income        age         loan  default\n",
      "0         1  66155.925095  59.017015  8106.532131        0\n",
      "1         2  34415.153966  48.117153  6564.745018        0\n",
      "2         3  57317.170063  63.108049  8020.953296        0\n",
      "3         4  42709.534201  45.751972  6103.642260        0\n",
      "4         5  66952.688845  18.584336  8770.099235        1\n",
      "5         6  24904.064140  57.471607    15.498598        0\n",
      "6         7  48430.359613  26.809132  5722.581981        0\n",
      "7         8  24500.141984  32.897548  2971.003310        1\n",
      "8         9  40654.892537  55.496853  4755.825280        0\n",
      "9        10  25075.872771  39.776378  1409.230371        0\n"
     ]
    }
   ],
   "source": [
    "#visualizar os 10 primeiros por padrão, sem parâmetros, retorna os 5\n",
    "print(dados_créditos.head(10))"
   ]
  },
  {
   "cell_type": "code",
   "execution_count": 6,
   "metadata": {},
   "outputs": [
    {
     "name": "stdout",
     "output_type": "stream",
     "text": [
      "      clientid        income        age         loan  default\n",
      "1990      1991  34237.575419  34.101654  2658.090632        0\n",
      "1991      1992  26300.446554  45.539385  2317.393678        0\n",
      "1992      1993  30803.806165  23.250084   623.024153        0\n",
      "1993      1994  54421.410155  26.821928  3273.631823        0\n",
      "1994      1995  24254.700791  37.751622  2225.284643        0\n",
      "1995      1996  59221.044874  48.518179  1926.729397        0\n",
      "1996      1997  69516.127573  23.162104  3503.176156        0\n",
      "1997      1998  44311.449262  28.017167  5522.786693        1\n",
      "1998      1999  43756.056605  63.971796  1622.722598        0\n",
      "1999      2000  69436.579552  56.152617  7378.833599        0\n"
     ]
    }
   ],
   "source": [
    "#visualizar os 10 últimos\n",
    "print(dados_créditos.tail(10))"
   ]
  },
  {
   "cell_type": "code",
   "execution_count": 7,
   "metadata": {},
   "outputs": [
    {
     "name": "stdout",
     "output_type": "stream",
     "text": [
      "          clientid        income          age          loan      default\n",
      "count  2000.000000   2000.000000  1997.000000   2000.000000  2000.000000\n",
      "mean   1000.500000  45331.600018    40.807559   4444.369695     0.141500\n",
      "std     577.494589  14326.327119    13.624469   3045.410024     0.348624\n",
      "min       1.000000  20014.489470   -52.423280      1.377630     0.000000\n",
      "25%     500.750000  32796.459717    28.990415   1939.708847     0.000000\n",
      "50%    1000.500000  45789.117313    41.317159   3974.719419     0.000000\n",
      "75%    1500.250000  57791.281668    52.587040   6432.410625     0.000000\n",
      "max    2000.000000  69995.685578    63.971796  13766.051239     1.000000\n"
     ]
    }
   ],
   "source": [
    "#visualizar estatísticas. Mean = média. income = salário. loan = dívida\n",
    "print(dados_créditos.describe())"
   ]
  },
  {
   "cell_type": "code",
   "execution_count": 8,
   "metadata": {},
   "outputs": [
    {
     "name": "stdout",
     "output_type": "stream",
     "text": [
      "     clientid        income        age         loan  default\n",
      "422       423  69995.685578  52.719673  2084.370861        0\n",
      "     clientid        income        age     loan  default\n",
      "865       866  28072.604355  54.142548  1.37763        0\n"
     ]
    }
   ],
   "source": [
    "#filtros, pesquisar dentro da base de dados, o valor income maior ou igual ao digitado pesqiosar sempre por maior ou igual\n",
    "print(dados_créditos[dados_créditos['income'] >= 69995.685578])\n",
    "print(dados_créditos[dados_créditos['loan'] <= 1.377630])"
   ]
  }
 ],
 "metadata": {
  "kernelspec": {
   "display_name": "Python 3.10.6 64-bit (system)",
   "language": "python",
   "name": "python3"
  },
  "language_info": {
   "codemirror_mode": {
    "name": "ipython",
    "version": 3
   },
   "file_extension": ".py",
   "mimetype": "text/x-python",
   "name": "python",
   "nbconvert_exporter": "python",
   "pygments_lexer": "ipython3",
   "version": "3.10.6 (tags/v3.10.6:9c7b4bd, Aug  1 2022, 21:53:49) [MSC v.1932 64 bit (AMD64)]"
  },
  "orig_nbformat": 4,
  "vscode": {
   "interpreter": {
    "hash": "2cd7665cedd4f9d6a5954511bd3b9a3b15f741cf97cbecf8f04a856d9e54235f"
   }
  }
 },
 "nbformat": 4,
 "nbformat_minor": 2
}
